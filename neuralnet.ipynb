{
 "cells": [
  {
   "cell_type": "markdown",
   "metadata": {},
   "source": [
    "### Building a Neural Net"
   ]
  },
  {
   "cell_type": "code",
   "execution_count": 661,
   "metadata": {},
   "outputs": [],
   "source": [
    "import numpy as np\n",
    "\n",
    "def ReLU(x):\n",
    "    return x * (x > 0)\n",
    "\n",
    "def dReLU(x):\n",
    "    return 1. * (x > 0)\n",
    "\n",
    "def sigmoid(x):\n",
    "    return 1/(np.exp(-x)+1)    \n",
    "\n",
    "def dsigmoid(x):\n",
    "    return sigmoid(x)*(np.ones(x.shape[0])-sigmoid(x))\n",
    "    \n",
    "class NeuralNet(): \n",
    "    def __init__(self, layers=[], epoch=35, eta=0.08, func=sigmoid, weight_range=[-1,1]):\n",
    "        self.layers = layers\n",
    "        self.epoch = epoch\n",
    "        self.eta = eta\n",
    "        self.weight_range = weight_range\n",
    "        self.func = func\n",
    "        self.dfunc = dsigmoid if func == sigmoid else dReLU\n",
    "        self.matrices = self.init_mat(layers)\n",
    "        \n",
    "    \n",
    "    def init_mat(self,layers):\n",
    "        mat_list = []\n",
    "        for i in range(len(layers)-1):\n",
    "            mat_list.append(np.random.uniform(self.weight_range[0],self.weight_range[1], (layers[i + 1], layers[i] + 1)))\n",
    "        return mat_list\n",
    "\n",
    "    def save_model(self, file_path):\n",
    "        np.savez(file_path, *self.matrices)\n",
    "\n",
    "    def load_model(self, file_path):\n",
    "        data = np.load(file_path)\n",
    "        self.matrices = [data[f'arr_{i}'] for i in range(len(data.files))]\n",
    "\n",
    "    def forward(self, x):\n",
    "        activations = [x]\n",
    "        for M in self.matrices:\n",
    "            x = np.append(x, 1) \n",
    "            x = self.func(np.dot(M, x))\n",
    "            activations.append(x)\n",
    "        return activations\n",
    "\n",
    "    def backward_propagate(self, activations, y):\n",
    "        errors = []\n",
    "        deltas = []\n",
    "\n",
    "        error = y - activations[-1]\n",
    "        errors.append(error)\n",
    "\n",
    "        delta = 2*error*self.dfunc(activations[-1])\n",
    "        deltas.append(delta)\n",
    "\n",
    "        for i in range(len(self.matrices)-1, 0, -1):\n",
    "            error = np.dot(self.matrices[i].T, delta)[:-1]\n",
    "            delta = 2*error*self.dfunc(activations[i])\n",
    "            errors.append(error)\n",
    "            deltas.append(delta)\n",
    "\n",
    "        errors.reverse()\n",
    "        deltas.reverse()\n",
    "\n",
    "        return errors, deltas\n",
    "\n",
    "    def update_weights(self, activations, deltas):\n",
    "        for i in range(len(self.matrices)):\n",
    "            delta = deltas[i].reshape(-1, 1)\n",
    "            activation = np.append(activations[i], 1).reshape(1, -1)\n",
    "            self.matrices[i] += self.eta * np.dot(delta, activation)\n",
    "\n",
    "    def train(self, X, y,verbose=False, batch_size=0):\n",
    "        for ep in range(self.epoch):\n",
    "            if verbose:\n",
    "                tenperc = self.epoch//10\n",
    "                if ep%tenperc == 0:\n",
    "                    print(\"Train percent:\",ep/self.epoch*100)\n",
    "\n",
    "            indices = [i for i in range(len(X))]\n",
    "            np.random.shuffle(indices)\n",
    "            if batch_size > 0:\n",
    "                indices = indices[:batch_size]\n",
    "            for i in indices:\n",
    "                x = X[i]\n",
    "                target = y[i]\n",
    "                activations = self.forward(x)\n",
    "                errors, deltas = self.backward_propagate(activations, target)\n",
    "                self.update_weights(activations, deltas)\n",
    "\n",
    "    def classify(self, x):\n",
    "        activations = self.forward(x)\n",
    "        return activations[-1]\n",
    "  "
   ]
  },
  {
   "cell_type": "markdown",
   "metadata": {},
   "source": [
    "#### Training and testing the neural net on a 2 bit adder dataset"
   ]
  },
  {
   "cell_type": "code",
   "execution_count": 520,
   "metadata": {},
   "outputs": [],
   "source": [
    "nn = NeuralNet([2,2,2], epoch=500, eta=0.4, func=sigmoid, weight_range=[-1,1])\n",
    "trainX = [[0,0],[0,1],[1,0],[1,1]]\n",
    "trainY = [[0,0],[0,1],[0,1],[1,0]]\n",
    "nn.train(trainX, trainY)"
   ]
  },
  {
   "cell_type": "code",
   "execution_count": 521,
   "metadata": {},
   "outputs": [
    {
     "name": "stdout",
     "output_type": "stream",
     "text": [
      "pred: [0. 0.] expected: [0, 0]\n",
      "pred: [0. 1.] expected: [0, 1]\n",
      "pred: [0. 1.] expected: [0, 1]\n",
      "pred: [1. 0.] expected: [1, 0]\n"
     ]
    }
   ],
   "source": [
    "print(\"pred:\",np.round(nn.classify([0,0])), \"expected:\",[0,0])\n",
    "print(\"pred:\",np.round(nn.classify([1,0])), \"expected:\",[0,1])\n",
    "print(\"pred:\",np.round(nn.classify([0,1])), \"expected:\",[0,1])\n",
    "print(\"pred:\",np.round(nn.classify([1,1])), \"expected:\",[1,0])"
   ]
  },
  {
   "cell_type": "markdown",
   "metadata": {},
   "source": [
    "#### Training and testing the neural net on policy table"
   ]
  },
  {
   "cell_type": "markdown",
   "metadata": {},
   "source": [
    "Parsing the data"
   ]
  },
  {
   "cell_type": "code",
   "execution_count": 656,
   "metadata": {},
   "outputs": [
    {
     "name": "stdout",
     "output_type": "stream",
     "text": [
      "[array([1. , 0.5, 0.5, 0. , 1. , 0. , 0.5, 0.5, 1. , 0.5]), array([1. , 0.5, 0.5, 0.5, 1. , 0. , 1. , 0.5, 0.5, 0.5]), array([1. , 0.5, 0.5, 0.5, 1. , 0. , 1. , 0.5, 0.5, 0.5]), array([1. , 0. , 0.5, 0.5, 1. , 1. , 0. , 0.5, 1. , 0.5]), array([1. , 0. , 0.5, 0.5, 1. , 1. , 0. , 0.5, 1. , 0.5]), array([1. , 0. , 0.5, 0.5, 1. , 1. , 0. , 0.5, 1. , 0.5]), array([0. , 0. , 0.5, 0. , 1. , 1. , 0.5, 0.5, 1. , 0.5]), array([1. , 0. , 0.5, 0. , 1. , 0. , 0.5, 0.5, 1. , 1. ]), array([0. , 0.5, 0.5, 0. , 0. , 0. , 1. , 0.5, 0.5, 0.5]), array([0. , 0.5, 0.5, 0. , 0. , 0. , 1. , 0.5, 0.5, 0.5]), array([1. , 0.5, 0.5, 0.5, 0. , 1. , 0. , 0.5, 0.5, 0.5]), array([0. , 0.5, 0.5, 0. , 0. , 1. , 0.5, 0.5, 0.5, 0.5]), array([0. , 0.5, 0.5, 0. , 0. , 1. , 0.5, 0.5, 0.5, 0.5]), array([1. , 0. , 0.5, 0.5, 0. , 1. , 0. , 0.5, 0.5, 1. ]), array([1. , 0. , 0.5, 0.5, 0. , 1. , 0. , 0.5, 0.5, 1. ]), array([0. , 0. , 0.5, 0.5, 0. , 0. , 1. , 0.5, 0.5, 0.5]), array([0. , 0. , 0.5, 0.5, 0. , 0. , 1. , 0.5, 0.5, 0.5]), array([0. , 0. , 0.5, 0.5, 0. , 1. , 0.5, 0.5, 0.5, 0.5]), array([0. , 0. , 0.5, 0.5, 0. , 1. , 0.5, 0.5, 0.5, 0.5]), array([0. , 0. , 0.5, 0. , 0. , 1. , 0.5, 0.5, 0.5, 1. ]), array([0. , 0. , 0.5, 0. , 0. , 1. , 0.5, 0.5, 0.5, 1. ]), array([0. , 0. , 0.5, 0. , 0. , 1. , 0.5, 0.5, 0.5, 1. ]), array([0. , 0. , 0.5, 0. , 1. , 0.5, 0.5, 0.5, 0.5, 1. ]), array([0. , 0. , 0.5, 0. , 0. , 0.5, 1. , 0.5, 1. , 0.5]), array([0. , 0. , 0.5, 0. , 0. , 0.5, 1. , 0.5, 1. , 0.5]), array([0. , 0.5, 0. , 0.5, 1. , 1. , 0. , 0.5, 0.5, 0.5]), array([1. , 0.5, 0. , 0.5, 1. , 0. , 0. , 0.5, 0.5, 1. ]), array([1. , 0.5, 0. , 0.5, 1. , 0. , 0. , 0.5, 0.5, 1. ]), array([1. , 0. , 0.5, 0.5, 1. , 0. , 1. , 0.5, 0.5, 1. ]), array([1. , 0. , 0.5, 0.5, 1. , 0. , 1. , 0.5, 0.5, 1. ]), array([1. , 0. , 0.5, 0.5, 0. , 0.5, 1. , 0.5, 0.5, 1. ]), array([0. , 0. , 0. , 0.5, 1. , 0.5, 1. , 0.5, 0.5, 1. ]), array([1. , 0. , 0. , 0.5, 1. , 0.5, 0. , 0.5, 1. , 1. ]), array([1. , 0. , 0. , 0.5, 1. , 0.5, 0. , 0.5, 1. , 1. ]), array([0. , 0. , 0. , 0. , 1. , 0.5, 0.5, 0.5, 1. , 1. ]), array([1. , 0.5, 0.5, 0. , 0. , 1. , 0. , 1. , 0.5, 0.5]), array([1. , 0.5, 0.5, 0. , 0. , 1. , 0. , 1. , 0.5, 0.5]), array([0. , 0.5, 0. , 0.5, 0. , 1. , 1. , 0.5, 0.5, 0.5]), array([1. , 0.5, 0. , 0.5, 0. , 0. , 1. , 1. , 0.5, 0.5]), array([1. , 0.5, 0. , 0.5, 0. , 0. , 1. , 1. , 0.5, 0.5]), array([1. , 0.5, 0. , 0. , 0. , 1. , 0.5, 1. , 0.5, 1. ]), array([1. , 0.5, 0. , 0. , 0. , 1. , 0.5, 1. , 0.5, 1. ]), array([0. , 0.5, 0. , 0. , 1. , 0. , 0.5, 0.5, 0.5, 1. ]), array([0. , 0.5, 0. , 0. , 1. , 0. , 0.5, 0.5, 0.5, 1. ]), array([0. , 0.5, 0. , 0. , 1. , 0. , 0.5, 0.5, 0.5, 1. ]), array([0. , 0.5, 0. , 0.5, 0.5, 0. , 1. , 0.5, 0.5, 0.5]), array([0. , 0.5, 0. , 0.5, 0.5, 0. , 1. , 0.5, 0.5, 0.5]), array([1. , 0.5, 0. , 0.5, 0.5, 0. , 0.5, 0.5, 0.5, 1. ]), array([0. , 0.5, 0. , 0. , 0.5, 1. , 0.5, 0.5, 0.5, 1. ]), array([0. , 0.5, 0.5, 0. , 1. , 0. , 0. , 0.5, 0.5, 0.5]), array([0. , 0.5, 0.5, 0. , 1. , 0. , 0. , 0.5, 0.5, 0.5]), array([0. , 0.5, 0.5, 0. , 0.5, 1. , 0. , 0.5, 0.5, 0.5]), array([0. , 0.5, 0.5, 0. , 0.5, 1. , 0. , 0.5, 0.5, 0.5]), array([0. , 0.5, 0. , 0. , 0.5, 0. , 1. , 1. , 0.5, 0.5]), array([0. , 0.5, 0. , 0. , 0.5, 0. , 1. , 1. , 0.5, 0.5]), array([0. , 0.5, 0. , 0. , 0.5, 0. , 1. , 1. , 0.5, 0.5]), array([0. , 0.5, 0. , 0.5, 1. , 0. , 0.5, 0.5, 0.5, 0.5]), array([0. , 0.5, 0. , 0.5, 1. , 0. , 0.5, 0.5, 0.5, 0.5]), array([1. , 0.5, 0. , 0.5, 0.5, 0. , 0.5, 1. , 0.5, 0.5]), array([0. , 0.5, 0. , 0. , 0.5, 1. , 0.5, 1. , 0.5, 0.5]), array([1. , 0. , 0. , 0.5, 0.5, 1. , 0. , 1. , 0.5, 1. ]), array([1. , 0. , 0. , 0.5, 0.5, 1. , 0. , 1. , 0.5, 1. ]), array([0. , 0. , 0. , 0.5, 1. , 0. , 0.5, 0.5, 0.5, 1. ]), array([0. , 0. , 0. , 0.5, 1. , 0. , 0.5, 0.5, 0.5, 1. ]), array([0. , 0. , 0. , 0.5, 1. , 0. , 0.5, 0.5, 0.5, 1. ]), array([0. , 0. , 0. , 0.5, 0.5, 1. , 0.5, 0.5, 0.5, 1. ]), array([0. , 0. , 0.5, 0.5, 1. , 0. , 0. , 0.5, 0.5, 0.5]), array([0. , 0. , 0.5, 0.5, 1. , 0. , 0. , 0.5, 0.5, 0.5]), array([0. , 0. , 0.5, 0.5, 0.5, 1. , 0. , 0.5, 0.5, 0.5]), array([0. , 0. , 0.5, 0.5, 0.5, 1. , 0. , 0.5, 0.5, 0.5]), array([0. , 0. , 0. , 0.5, 0.5, 0. , 1. , 1. , 0.5, 0.5]), array([0. , 0. , 0. , 0.5, 0.5, 0. , 1. , 1. , 0.5, 0.5]), array([0. , 0. , 0. , 0.5, 0.5, 0. , 1. , 1. , 0.5, 0.5]), array([0. , 0. , 0. , 0.5, 0.5, 1. , 0.5, 1. , 0.5, 0.5]), array([0. , 0. , 0. , 0. , 0.5, 1. , 0.5, 1. , 0.5, 1. ]), array([0. , 0. , 0. , 0. , 0.5, 1. , 0.5, 1. , 0.5, 1. ]), array([1. , 0.5, 0.5, 0. , 1. , 0. , 1. , 1. , 0.5, 0.5]), array([1. , 0.5, 0.5, 0. , 1. , 0. , 1. , 1. , 0.5, 0.5]), array([1. , 0.5, 0.5, 0. , 1. , 0.5, 0. , 1. , 0.5, 0.5]), array([0. , 0.5, 0. , 0. , 1. , 0.5, 1. , 1. , 0.5, 0.5]), array([1. , 0.5, 0. , 0. , 0. , 0.5, 1. , 1. , 1. , 0.5]), array([1. , 0.5, 0. , 0. , 0. , 0.5, 1. , 1. , 1. , 0.5]), array([1. , 0.5, 0.5, 0. , 0. , 1. , 1. , 0.5, 1. , 0.5]), array([1. , 0.5, 0.5, 0. , 0. , 1. , 1. , 0.5, 1. , 0.5]), array([1. , 0.5, 0.5, 0. , 0. , 1. , 1. , 0.5, 1. , 0.5]), array([1. , 0. , 0.5, 0.5, 0.5, 0. , 1. , 0.5, 1. , 0.5]), array([0. , 0. , 0.5, 0. , 0.5, 1. , 1. , 0.5, 1. , 0.5]), array([1. , 0. , 0.5, 0. , 0.5, 0. , 1. , 1. , 1. , 0.5]), array([0. , 0. , 0.5, 0. , 1. , 0.5, 0. , 0.5, 1. , 0.5]), array([0. , 0. , 0.5, 0. , 1. , 0.5, 0. , 0.5, 1. , 0.5]), array([0. , 0. , 0.5, 0. , 0.5, 1. , 0. , 1. , 0.5, 0.5]), array([0. , 0. , 0.5, 0. , 0.5, 1. , 0. , 1. , 0.5, 0.5]), array([0. , 0. , 0.5, 0. , 0.5, 1. , 0. , 1. , 0.5, 0.5]), array([0. , 0. , 0.5, 0. , 0.5, 0.5, 1. , 1. , 0.5, 0.5]), array([0. , 0. , 0. , 0. , 0.5, 0.5, 1. , 1. , 1. , 0.5])]\n",
      "[array([1. , 0.5, 0. , 0.5, 0. , 0.5, 0.5, 1. , 0.5]), array([1. , 0.5, 0.5, 0.5, 0. , 1. , 0.5, 0.5, 0.5]), array([0.5, 0.5, 1. , 1. , 0. , 0.5, 0.5, 0.5, 0.5]), array([0. , 1. , 0.5, 1. , 0.5, 0. , 0.5, 1. , 0.5]), array([1. , 0.5, 0.5, 1. , 0.5, 0. , 0.5, 1. , 0.5]), array([0. , 0.5, 0.5, 1. , 1. , 1. , 0.5, 0.5, 0.5]), array([0. , 0.5, 0.5, 1. , 0. , 0.5, 0.5, 1. , 0.5]), array([0. , 0.5, 0. , 1. , 0. , 1. , 0.5, 1. , 0.5]), array([0.5, 0.5, 0. , 0.5, 0. , 1. , 0. , 0.5, 0.5]), array([0.5, 0.5, 0. , 0. , 0.5, 1. , 0.5, 0. , 0.5]), array([0.5, 1. , 0.5, 0. , 0.5, 0. , 0.5, 0.5, 0.5]), array([0.5, 0.5, 0.5, 0. , 0. , 0.5, 0.5, 0.5, 0.5]), array([0.5, 0.5, 0. , 0.5, 1. , 0.5, 0. , 0.5, 0.5]), array([0. , 1. , 0.5, 0. , 0.5, 0. , 0.5, 0.5, 1. ]), array([1. , 0.5, 0.5, 0. , 0.5, 0. , 0.5, 0.5, 1. ]), array([0. , 0.5, 0.5, 0.5, 0. , 1. , 0. , 0.5, 0.5]), array([0. , 0.5, 0.5, 0. , 0.5, 1. , 0.5, 0. , 0.5]), array([0.5, 0.5, 0.5, 0. , 0. , 0.5, 0.5, 0.5, 0.5]), array([0. , 0.5, 0.5, 0.5, 1. , 0.5, 0. , 0.5, 0.5]), array([0.5, 0.5, 0. , 0. , 0. , 0.5, 0.5, 0.5, 1. ]), array([0. , 0.5, 0.5, 0. , 0. , 0.5, 0.5, 0.5, 1. ]), array([0. , 0.5, 0. , 0.5, 1. , 0.5, 0. , 0.5, 1. ]), array([0. , 0.5, 0.5, 1. , 0.5, 0. , 0.5, 0.5, 1. ]), array([0. , 0.5, 0. , 0.5, 0.5, 1. , 0. , 1. , 0.5]), array([0. , 0.5, 0. , 0.5, 0.5, 1. , 0.5, 0. , 0.5]), array([0.5, 0. , 0.5, 1. , 1. , 0.5, 0.5, 0.5, 0. ]), array([1. , 0. , 0.5, 0.5, 0. , 0. , 0.5, 0.5, 1. ]), array([0.5, 1. , 0.5, 0.5, 0. , 0. , 0.5, 0.5, 1. ]), array([0. , 0.5, 1. , 1. , 0. , 0.5, 0.5, 0.5, 1. ]), array([0. , 0.5, 0.5, 1. , 1. , 1. , 0.5, 0.5, 0.5]), array([0. , 0.5, 1. , 0. , 0.5, 0.5, 0.5, 0.5, 1. ]), array([0. , 0.5, 0.5, 1. , 0.5, 0. , 0.5, 0.5, 1. ]), array([0. , 1. , 0.5, 0.5, 0.5, 0. , 0.5, 1. , 1. ]), array([0. , 0. , 0.5, 1. , 1. , 0. , 0.5, 0.5, 1. ]), array([0. , 0.5, 0. , 0. , 0.5, 0.5, 0.5, 1. , 1. ]), array([0.5, 1. , 0. , 0. , 0.5, 0. , 1. , 0.5, 0.5]), array([0.5, 0.5, 1. , 0. , 0.5, 0. , 1. , 0.5, 0.5]), array([0.5, 0. , 0.5, 0.5, 1. , 1. , 0. , 0.5, 0.5]), array([0.5, 0. , 1. , 0. , 0. , 0.5, 1. , 0.5, 0.5]), array([0.5, 1. , 0.5, 0. , 0. , 0.5, 1. , 0.5, 0.5]), array([0.5, 0. , 1. , 0. , 0.5, 0.5, 1. , 0.5, 1. ]), array([0.5, 0. , 0. , 0. , 1. , 1. , 1. , 0.5, 0.5]), array([0.5, 0.5, 0. , 0. , 0. , 0.5, 0.5, 0.5, 1. ]), array([0.5, 0. , 0. , 1. , 0.5, 0.5, 0.5, 0. , 1. ]), array([0.5, 0. , 0. , 1. , 0.5, 0.5, 0.5, 0.5, 0. ]), array([0.5, 0.5, 0.5, 0.5, 0. , 0. , 0.5, 0.5, 0.5]), array([0.5, 0. , 0.5, 0.5, 0.5, 1. , 0.5, 0. , 0.5]), array([0.5, 0. , 0.5, 0.5, 1. , 0.5, 0.5, 0.5, 0.5]), array([0.5, 0. , 0.5, 0.5, 1. , 0. , 0.5, 0.5, 1. ]), array([0.5, 0.5, 0. , 1. , 0.5, 0. , 0.5, 0. , 0.5]), array([0.5, 0.5, 0. , 1. , 0. , 0.5, 0.5, 0.5, 0. ]), array([0.5, 0.5, 0.5, 0.5, 0. , 0. , 0.5, 0.5, 0.5]), array([0.5, 0.5, 0. , 0.5, 1. , 0.5, 0.5, 0.5, 0. ]), array([0.5, 0.5, 0. , 0.5, 0. , 0. , 1. , 0.5, 0.5]), array([0.5, 0. , 0. , 0.5, 0.5, 1. , 1. , 0. , 0.5]), array([0.5, 0. , 0. , 0.5, 0.5, 1. , 0. , 0.5, 0.5]), array([0.5, 0.5, 0.5, 0. , 0. , 0.5, 0.5, 0.5, 0.5]), array([0.5, 0. , 0.5, 1. , 0.5, 0.5, 0.5, 0. , 0.5]), array([0.5, 0. , 0.5, 0.5, 1. , 0.5, 0.5, 0.5, 0.5]), array([0.5, 0. , 0.5, 0.5, 1. , 0. , 1. , 0.5, 0.5]), array([1. , 0. , 0.5, 0.5, 0.5, 0. , 1. , 0.5, 1. ]), array([0. , 0. , 0.5, 1. , 1. , 0. , 0.5, 0.5, 1. ]), array([0. , 0.5, 0.5, 0. , 0. , 0.5, 0.5, 0.5, 1. ]), array([0. , 0. , 0.5, 1. , 0.5, 0.5, 0.5, 0. , 1. ]), array([0. , 0. , 0.5, 1. , 0.5, 0.5, 0.5, 0.5, 0. ]), array([0.5, 0. , 0.5, 0. , 1. , 0.5, 0.5, 0.5, 1. ]), array([0. , 0.5, 0.5, 1. , 0.5, 0. , 0.5, 0. , 0.5]), array([0. , 0.5, 0.5, 1. , 0. , 0.5, 0.5, 0.5, 0. ]), array([0.5, 0.5, 0.5, 0.5, 0. , 0. , 0.5, 0.5, 0.5]), array([0. , 0.5, 0.5, 0.5, 1. , 0.5, 0.5, 0.5, 0. ]), array([0. , 0.5, 0.5, 0.5, 0. , 0. , 1. , 0.5, 0.5]), array([0. , 0. , 0.5, 0.5, 0.5, 1. , 1. , 0. , 0.5]), array([0. , 0. , 0.5, 0.5, 0.5, 1. , 0. , 0.5, 0.5]), array([0.5, 0. , 0.5, 0. , 1. , 0.5, 1. , 0.5, 0.5]), array([0.5, 0. , 0. , 0.5, 0. , 0.5, 1. , 0.5, 1. ]), array([0. , 0. , 0.5, 0.5, 0. , 0.5, 1. , 0.5, 1. ]), array([1. , 0.5, 0. , 0.5, 0. , 1. , 1. , 0.5, 0.5]), array([0.5, 0.5, 0. , 1. , 1. , 1. , 0.5, 0.5, 0.5]), array([1. , 0.5, 0. , 0.5, 0.5, 0. , 1. , 0.5, 0.5]), array([0.5, 0.5, 0. , 0. , 0.5, 1. , 1. , 0.5, 0.5]), array([0.5, 1. , 0. , 0. , 0.5, 0.5, 1. , 1. , 0.5]), array([0.5, 0. , 0. , 0. , 1. , 1. , 1. , 0.5, 0.5]), array([0.5, 1. , 0. , 0. , 0.5, 1. , 0.5, 1. , 0.5]), array([0.5, 0.5, 1. , 0. , 0.5, 1. , 0.5, 1. , 0.5]), array([0.5, 0.5, 0. , 1. , 1. , 1. , 0.5, 0.5, 0.5]), array([0. , 0.5, 1. , 0.5, 0. , 0.5, 0.5, 1. , 0.5]), array([0.5, 0.5, 0. , 0.5, 0. , 1. , 0.5, 1. , 0.5]), array([0. , 0.5, 0. , 1. , 0. , 1. , 0.5, 1. , 0.5]), array([0. , 0.5, 0. , 1. , 0.5, 0.5, 0.5, 1. , 0. ]), array([0. , 0.5, 0. , 1. , 0.5, 0.5, 0.5, 0. , 0.5]), array([0.5, 0.5, 0. , 0.5, 0. , 0. , 1. , 0.5, 0.5]), array([0. , 0.5, 0.5, 0.5, 0. , 0. , 1. , 0.5, 0.5]), array([0. , 0.5, 0. , 0.5, 1. , 0.5, 1. , 0.5, 0. ]), array([0.5, 0.5, 0. , 0. , 0.5, 1. , 1. , 0.5, 0.5]), array([0. , 0.5, 0. , 0.5, 0.5, 0. , 1. , 1. , 0.5])]\n"
     ]
    }
   ],
   "source": [
    "from hexapawn import policy_table, Hexapawn\n",
    "import ast\n",
    "\n",
    "trainX = []\n",
    "trainY = []\n",
    "\n",
    "for x in policy_table:\n",
    "    listX = ast.literal_eval(x)\n",
    "    if listX[0] in policy_table[x]:\n",
    "        for a in policy_table[x][listX[0]]:\n",
    "            trainX.append((1/2)*(np.array(listX)+1))\n",
    "            trainY.append((1/2)*(np.array(Hexapawn(listX).result(a)[1:])+1))\n",
    "\n",
    "print(trainX)\n",
    "print(trainY)"
   ]
  },
  {
   "cell_type": "markdown",
   "metadata": {},
   "source": [
    "Training and testing"
   ]
  },
  {
   "cell_type": "code",
   "execution_count": 664,
   "metadata": {},
   "outputs": [
    {
     "name": "stdout",
     "output_type": "stream",
     "text": [
      "Train percent: 0.0\n",
      "Train percent: 10.0\n",
      "Train percent: 20.0\n",
      "Train percent: 30.0\n",
      "Train percent: 40.0\n",
      "Train percent: 50.0\n",
      "Train percent: 60.0\n",
      "Train percent: 70.0\n",
      "Train percent: 80.0\n",
      "Train percent: 90.0\n",
      "Optimal moves predicted: 8\n",
      "Bad moves predicted: 0\n",
      "Illegal moves predicted: 87\n"
     ]
    }
   ],
   "source": [
    "nn = NeuralNet([10, 25, 9], epoch=20000, eta=0.001, func=sigmoid, weight_range=[-0.01, 0.01])\n",
    "\n",
    "nn.train(trainX, trainY, verbose=True, batch_size=32)\n",
    "\n",
    "optimalMoves = 0\n",
    "badMoves = 0\n",
    "illegalMoves = 0\n",
    "\n",
    "for x,y in zip(trainX, trainY):\n",
    "    pred = 2*nn.classify(x)-1\n",
    "    cutoff = 0.3\n",
    "    for j in range(len(pred)):\n",
    "        if pred[j]<=-cutoff:\n",
    "            pred[j] = -1\n",
    "        elif pred[j] >= cutoff:\n",
    "            pred[j] = 1\n",
    "        else:\n",
    "            pred[j] = 0\n",
    "\n",
    "    tmpOpt = optimalMoves\n",
    "    tmpBad = badMoves\n",
    "\n",
    "    state = Hexapawn(list(2*x-1))\n",
    "\n",
    "    for a in policy_table[str(list((2*x-1).astype(int)))][int(2*x[0]-1)]:\n",
    "        optimal = np.array(state.result(a)[1:])\n",
    "        if np.array_equal(optimal, pred):\n",
    "            optimalMoves += 1\n",
    "    if tmpOpt == optimalMoves:\n",
    "        for a in state.actions:\n",
    "            bad = np.array(state.result(a)[1:])\n",
    "            if np.array_equal(bad, pred):\n",
    "                badMoves += 1\n",
    "    if tmpOpt == optimalMoves and tmpBad == badMoves:\n",
    "        illegalMoves += 1\n",
    "    \n",
    "    # print(\"X:\", 2*x-1)\n",
    "    # print(\"Y:\", 2*y-1)\n",
    "    # print(\"Predicted:\",pred)\n",
    "    # print(np.array_equal(y,pred))\n",
    "\n",
    "print(\"Optimal moves predicted:\",optimalMoves)\n",
    "print(\"Bad moves predicted:\",badMoves)\n",
    "print(\"Illegal moves predicted:\",illegalMoves)"
   ]
  },
  {
   "cell_type": "code",
   "execution_count": 665,
   "metadata": {},
   "outputs": [],
   "source": [
    "from datetime import datetime\n",
    "\n",
    "now = datetime.now()\n",
    "\n",
    "timeNow = now.strftime(\"%Y-%m-%d_%H-%M-%S\")\n",
    "nn.save_model(\"model-\"+timeNow)"
   ]
  },
  {
   "cell_type": "markdown",
   "metadata": {},
   "source": [
    "I wasn't able to find a good model other than having to predict at most 9 optimal moves. I found that the neural network was the best with only one hidden layer. I couldn't configure the parameters correctly so when having more layers it didn't give me that many optimal moves."
   ]
  }
 ],
 "metadata": {
  "kernelspec": {
   "display_name": "Python 3",
   "language": "python",
   "name": "python3"
  },
  "language_info": {
   "codemirror_mode": {
    "name": "ipython",
    "version": 3
   },
   "file_extension": ".py",
   "mimetype": "text/x-python",
   "name": "python",
   "nbconvert_exporter": "python",
   "pygments_lexer": "ipython3",
   "version": "3.11.4"
  }
 },
 "nbformat": 4,
 "nbformat_minor": 2
}
